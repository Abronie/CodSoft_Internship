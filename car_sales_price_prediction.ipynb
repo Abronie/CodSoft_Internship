{
  "cells": [
    {
      "cell_type": "markdown",
      "metadata": {
        "id": "view-in-github",
        "colab_type": "text"
      },
      "source": [
        "<a href=\"https://colab.research.google.com/github/Abronie/CodSoft_Internship/blob/main/car_sales_price_prediction.ipynb\" target=\"_parent\"><img src=\"https://colab.research.google.com/assets/colab-badge.svg\" alt=\"Open In Colab\"/></a>"
      ]
    },
    {
      "cell_type": "code",
      "execution_count": 3,
      "id": "baf7d03d",
      "metadata": {
        "_cell_guid": "b1076dfc-b9ad-4769-8c92-a6c4dae69d19",
        "_uuid": "8f2839f25d086af736a60e9eeb907d3b93b6e0e5",
        "execution": {
          "iopub.execute_input": "2023-10-24T19:47:29.122420Z",
          "iopub.status.busy": "2023-10-24T19:47:29.122051Z",
          "iopub.status.idle": "2023-10-24T19:47:38.422076Z",
          "shell.execute_reply": "2023-10-24T19:47:38.421215Z"
        },
        "papermill": {
          "duration": 9.30815,
          "end_time": "2023-10-24T19:47:38.424367",
          "exception": false,
          "start_time": "2023-10-24T19:47:29.116217",
          "status": "completed"
        },
        "tags": [],
        "id": "baf7d03d"
      },
      "outputs": [],
      "source": [
        "import numpy as np\n",
        "import pandas as pd\n",
        "import matplotlib.pyplot as plt\n",
        "from sklearn.preprocessing import MinMaxScaler\n",
        "\n",
        "from tensorflow.keras.layers import Dense\n",
        "from tensorflow.keras.models import Sequential\n",
        "from sklearn.model_selection import train_test_split"
      ]
    },
    {
      "cell_type": "code",
      "execution_count": 4,
      "id": "d4a01b6c",
      "metadata": {
        "execution": {
          "iopub.execute_input": "2023-10-24T19:47:38.434464Z",
          "iopub.status.busy": "2023-10-24T19:47:38.433915Z",
          "iopub.status.idle": "2023-10-24T19:47:38.454059Z",
          "shell.execute_reply": "2023-10-24T19:47:38.453165Z"
        },
        "papermill": {
          "duration": 0.02728,
          "end_time": "2023-10-24T19:47:38.456069",
          "exception": false,
          "start_time": "2023-10-24T19:47:38.428789",
          "status": "completed"
        },
        "tags": [],
        "id": "d4a01b6c"
      },
      "outputs": [],
      "source": [
        "df = pd.read_csv(\"car_purchasing.csv\",encoding='ISO-8859-1')"
      ]
    },
    {
      "cell_type": "code",
      "execution_count": 5,
      "id": "5d66f89c",
      "metadata": {
        "execution": {
          "iopub.execute_input": "2023-10-24T19:47:38.465284Z",
          "iopub.status.busy": "2023-10-24T19:47:38.465004Z",
          "iopub.status.idle": "2023-10-24T19:47:38.485799Z",
          "shell.execute_reply": "2023-10-24T19:47:38.484920Z"
        },
        "papermill": {
          "duration": 0.02759,
          "end_time": "2023-10-24T19:47:38.487733",
          "exception": false,
          "start_time": "2023-10-24T19:47:38.460143",
          "status": "completed"
        },
        "tags": [],
        "colab": {
          "base_uri": "https://localhost:8080/",
          "height": 310
        },
        "id": "5d66f89c",
        "outputId": "7dfc1673-8db5-41d7-99c6-d7f94daa0147"
      },
      "outputs": [
        {
          "output_type": "execute_result",
          "data": {
            "text/plain": [
              "     customer name                                    customer e-mail  \\\n",
              "0    Martina Avila  cubilia.Curae.Phasellus@quisaccumsanconvallis.edu   \n",
              "1    Harlan Barnes                                eu.dolor@diam.co.uk   \n",
              "2  Naomi Rodriquez  vulputate.mauris.sagittis@ametconsectetueradip...   \n",
              "3  Jade Cunningham                            malesuada@dignissim.com   \n",
              "4     Cedric Leach     felis.ullamcorper.viverra@egetmollislectus.net   \n",
              "\n",
              "        country  gender        age  annual Salary  credit card debt  \\\n",
              "0      Bulgaria       0  41.851720    62812.09301      11609.380910   \n",
              "1        Belize       0  40.870623    66646.89292       9572.957136   \n",
              "2       Algeria       1  43.152897    53798.55112      11160.355060   \n",
              "3  Cook Islands       1  58.271369    79370.03798      14426.164850   \n",
              "4        Brazil       1  57.313749    59729.15130       5358.712177   \n",
              "\n",
              "     net worth  car purchase amount  \n",
              "0  238961.2505          35321.45877  \n",
              "1  530973.9078          45115.52566  \n",
              "2  638467.1773          42925.70921  \n",
              "3  548599.0524          67422.36313  \n",
              "4  560304.0671          55915.46248  "
            ],
            "text/html": [
              "\n",
              "  <div id=\"df-40816d94-93ae-4396-886e-5821f21df33d\" class=\"colab-df-container\">\n",
              "    <div>\n",
              "<style scoped>\n",
              "    .dataframe tbody tr th:only-of-type {\n",
              "        vertical-align: middle;\n",
              "    }\n",
              "\n",
              "    .dataframe tbody tr th {\n",
              "        vertical-align: top;\n",
              "    }\n",
              "\n",
              "    .dataframe thead th {\n",
              "        text-align: right;\n",
              "    }\n",
              "</style>\n",
              "<table border=\"1\" class=\"dataframe\">\n",
              "  <thead>\n",
              "    <tr style=\"text-align: right;\">\n",
              "      <th></th>\n",
              "      <th>customer name</th>\n",
              "      <th>customer e-mail</th>\n",
              "      <th>country</th>\n",
              "      <th>gender</th>\n",
              "      <th>age</th>\n",
              "      <th>annual Salary</th>\n",
              "      <th>credit card debt</th>\n",
              "      <th>net worth</th>\n",
              "      <th>car purchase amount</th>\n",
              "    </tr>\n",
              "  </thead>\n",
              "  <tbody>\n",
              "    <tr>\n",
              "      <th>0</th>\n",
              "      <td>Martina Avila</td>\n",
              "      <td>cubilia.Curae.Phasellus@quisaccumsanconvallis.edu</td>\n",
              "      <td>Bulgaria</td>\n",
              "      <td>0</td>\n",
              "      <td>41.851720</td>\n",
              "      <td>62812.09301</td>\n",
              "      <td>11609.380910</td>\n",
              "      <td>238961.2505</td>\n",
              "      <td>35321.45877</td>\n",
              "    </tr>\n",
              "    <tr>\n",
              "      <th>1</th>\n",
              "      <td>Harlan Barnes</td>\n",
              "      <td>eu.dolor@diam.co.uk</td>\n",
              "      <td>Belize</td>\n",
              "      <td>0</td>\n",
              "      <td>40.870623</td>\n",
              "      <td>66646.89292</td>\n",
              "      <td>9572.957136</td>\n",
              "      <td>530973.9078</td>\n",
              "      <td>45115.52566</td>\n",
              "    </tr>\n",
              "    <tr>\n",
              "      <th>2</th>\n",
              "      <td>Naomi Rodriquez</td>\n",
              "      <td>vulputate.mauris.sagittis@ametconsectetueradip...</td>\n",
              "      <td>Algeria</td>\n",
              "      <td>1</td>\n",
              "      <td>43.152897</td>\n",
              "      <td>53798.55112</td>\n",
              "      <td>11160.355060</td>\n",
              "      <td>638467.1773</td>\n",
              "      <td>42925.70921</td>\n",
              "    </tr>\n",
              "    <tr>\n",
              "      <th>3</th>\n",
              "      <td>Jade Cunningham</td>\n",
              "      <td>malesuada@dignissim.com</td>\n",
              "      <td>Cook Islands</td>\n",
              "      <td>1</td>\n",
              "      <td>58.271369</td>\n",
              "      <td>79370.03798</td>\n",
              "      <td>14426.164850</td>\n",
              "      <td>548599.0524</td>\n",
              "      <td>67422.36313</td>\n",
              "    </tr>\n",
              "    <tr>\n",
              "      <th>4</th>\n",
              "      <td>Cedric Leach</td>\n",
              "      <td>felis.ullamcorper.viverra@egetmollislectus.net</td>\n",
              "      <td>Brazil</td>\n",
              "      <td>1</td>\n",
              "      <td>57.313749</td>\n",
              "      <td>59729.15130</td>\n",
              "      <td>5358.712177</td>\n",
              "      <td>560304.0671</td>\n",
              "      <td>55915.46248</td>\n",
              "    </tr>\n",
              "  </tbody>\n",
              "</table>\n",
              "</div>\n",
              "    <div class=\"colab-df-buttons\">\n",
              "\n",
              "  <div class=\"colab-df-container\">\n",
              "    <button class=\"colab-df-convert\" onclick=\"convertToInteractive('df-40816d94-93ae-4396-886e-5821f21df33d')\"\n",
              "            title=\"Convert this dataframe to an interactive table.\"\n",
              "            style=\"display:none;\">\n",
              "\n",
              "  <svg xmlns=\"http://www.w3.org/2000/svg\" height=\"24px\" viewBox=\"0 -960 960 960\">\n",
              "    <path d=\"M120-120v-720h720v720H120Zm60-500h600v-160H180v160Zm220 220h160v-160H400v160Zm0 220h160v-160H400v160ZM180-400h160v-160H180v160Zm440 0h160v-160H620v160ZM180-180h160v-160H180v160Zm440 0h160v-160H620v160Z\"/>\n",
              "  </svg>\n",
              "    </button>\n",
              "\n",
              "  <style>\n",
              "    .colab-df-container {\n",
              "      display:flex;\n",
              "      gap: 12px;\n",
              "    }\n",
              "\n",
              "    .colab-df-convert {\n",
              "      background-color: #E8F0FE;\n",
              "      border: none;\n",
              "      border-radius: 50%;\n",
              "      cursor: pointer;\n",
              "      display: none;\n",
              "      fill: #1967D2;\n",
              "      height: 32px;\n",
              "      padding: 0 0 0 0;\n",
              "      width: 32px;\n",
              "    }\n",
              "\n",
              "    .colab-df-convert:hover {\n",
              "      background-color: #E2EBFA;\n",
              "      box-shadow: 0px 1px 2px rgba(60, 64, 67, 0.3), 0px 1px 3px 1px rgba(60, 64, 67, 0.15);\n",
              "      fill: #174EA6;\n",
              "    }\n",
              "\n",
              "    .colab-df-buttons div {\n",
              "      margin-bottom: 4px;\n",
              "    }\n",
              "\n",
              "    [theme=dark] .colab-df-convert {\n",
              "      background-color: #3B4455;\n",
              "      fill: #D2E3FC;\n",
              "    }\n",
              "\n",
              "    [theme=dark] .colab-df-convert:hover {\n",
              "      background-color: #434B5C;\n",
              "      box-shadow: 0px 1px 3px 1px rgba(0, 0, 0, 0.15);\n",
              "      filter: drop-shadow(0px 1px 2px rgba(0, 0, 0, 0.3));\n",
              "      fill: #FFFFFF;\n",
              "    }\n",
              "  </style>\n",
              "\n",
              "    <script>\n",
              "      const buttonEl =\n",
              "        document.querySelector('#df-40816d94-93ae-4396-886e-5821f21df33d button.colab-df-convert');\n",
              "      buttonEl.style.display =\n",
              "        google.colab.kernel.accessAllowed ? 'block' : 'none';\n",
              "\n",
              "      async function convertToInteractive(key) {\n",
              "        const element = document.querySelector('#df-40816d94-93ae-4396-886e-5821f21df33d');\n",
              "        const dataTable =\n",
              "          await google.colab.kernel.invokeFunction('convertToInteractive',\n",
              "                                                    [key], {});\n",
              "        if (!dataTable) return;\n",
              "\n",
              "        const docLinkHtml = 'Like what you see? Visit the ' +\n",
              "          '<a target=\"_blank\" href=https://colab.research.google.com/notebooks/data_table.ipynb>data table notebook</a>'\n",
              "          + ' to learn more about interactive tables.';\n",
              "        element.innerHTML = '';\n",
              "        dataTable['output_type'] = 'display_data';\n",
              "        await google.colab.output.renderOutput(dataTable, element);\n",
              "        const docLink = document.createElement('div');\n",
              "        docLink.innerHTML = docLinkHtml;\n",
              "        element.appendChild(docLink);\n",
              "      }\n",
              "    </script>\n",
              "  </div>\n",
              "\n",
              "\n",
              "<div id=\"df-4282e7cd-1598-4b92-bbe9-caadc7274193\">\n",
              "  <button class=\"colab-df-quickchart\" onclick=\"quickchart('df-4282e7cd-1598-4b92-bbe9-caadc7274193')\"\n",
              "            title=\"Suggest charts.\"\n",
              "            style=\"display:none;\">\n",
              "\n",
              "<svg xmlns=\"http://www.w3.org/2000/svg\" height=\"24px\"viewBox=\"0 0 24 24\"\n",
              "     width=\"24px\">\n",
              "    <g>\n",
              "        <path d=\"M19 3H5c-1.1 0-2 .9-2 2v14c0 1.1.9 2 2 2h14c1.1 0 2-.9 2-2V5c0-1.1-.9-2-2-2zM9 17H7v-7h2v7zm4 0h-2V7h2v10zm4 0h-2v-4h2v4z\"/>\n",
              "    </g>\n",
              "</svg>\n",
              "  </button>\n",
              "\n",
              "<style>\n",
              "  .colab-df-quickchart {\n",
              "      --bg-color: #E8F0FE;\n",
              "      --fill-color: #1967D2;\n",
              "      --hover-bg-color: #E2EBFA;\n",
              "      --hover-fill-color: #174EA6;\n",
              "      --disabled-fill-color: #AAA;\n",
              "      --disabled-bg-color: #DDD;\n",
              "  }\n",
              "\n",
              "  [theme=dark] .colab-df-quickchart {\n",
              "      --bg-color: #3B4455;\n",
              "      --fill-color: #D2E3FC;\n",
              "      --hover-bg-color: #434B5C;\n",
              "      --hover-fill-color: #FFFFFF;\n",
              "      --disabled-bg-color: #3B4455;\n",
              "      --disabled-fill-color: #666;\n",
              "  }\n",
              "\n",
              "  .colab-df-quickchart {\n",
              "    background-color: var(--bg-color);\n",
              "    border: none;\n",
              "    border-radius: 50%;\n",
              "    cursor: pointer;\n",
              "    display: none;\n",
              "    fill: var(--fill-color);\n",
              "    height: 32px;\n",
              "    padding: 0;\n",
              "    width: 32px;\n",
              "  }\n",
              "\n",
              "  .colab-df-quickchart:hover {\n",
              "    background-color: var(--hover-bg-color);\n",
              "    box-shadow: 0 1px 2px rgba(60, 64, 67, 0.3), 0 1px 3px 1px rgba(60, 64, 67, 0.15);\n",
              "    fill: var(--button-hover-fill-color);\n",
              "  }\n",
              "\n",
              "  .colab-df-quickchart-complete:disabled,\n",
              "  .colab-df-quickchart-complete:disabled:hover {\n",
              "    background-color: var(--disabled-bg-color);\n",
              "    fill: var(--disabled-fill-color);\n",
              "    box-shadow: none;\n",
              "  }\n",
              "\n",
              "  .colab-df-spinner {\n",
              "    border: 2px solid var(--fill-color);\n",
              "    border-color: transparent;\n",
              "    border-bottom-color: var(--fill-color);\n",
              "    animation:\n",
              "      spin 1s steps(1) infinite;\n",
              "  }\n",
              "\n",
              "  @keyframes spin {\n",
              "    0% {\n",
              "      border-color: transparent;\n",
              "      border-bottom-color: var(--fill-color);\n",
              "      border-left-color: var(--fill-color);\n",
              "    }\n",
              "    20% {\n",
              "      border-color: transparent;\n",
              "      border-left-color: var(--fill-color);\n",
              "      border-top-color: var(--fill-color);\n",
              "    }\n",
              "    30% {\n",
              "      border-color: transparent;\n",
              "      border-left-color: var(--fill-color);\n",
              "      border-top-color: var(--fill-color);\n",
              "      border-right-color: var(--fill-color);\n",
              "    }\n",
              "    40% {\n",
              "      border-color: transparent;\n",
              "      border-right-color: var(--fill-color);\n",
              "      border-top-color: var(--fill-color);\n",
              "    }\n",
              "    60% {\n",
              "      border-color: transparent;\n",
              "      border-right-color: var(--fill-color);\n",
              "    }\n",
              "    80% {\n",
              "      border-color: transparent;\n",
              "      border-right-color: var(--fill-color);\n",
              "      border-bottom-color: var(--fill-color);\n",
              "    }\n",
              "    90% {\n",
              "      border-color: transparent;\n",
              "      border-bottom-color: var(--fill-color);\n",
              "    }\n",
              "  }\n",
              "</style>\n",
              "\n",
              "  <script>\n",
              "    async function quickchart(key) {\n",
              "      const quickchartButtonEl =\n",
              "        document.querySelector('#' + key + ' button');\n",
              "      quickchartButtonEl.disabled = true;  // To prevent multiple clicks.\n",
              "      quickchartButtonEl.classList.add('colab-df-spinner');\n",
              "      try {\n",
              "        const charts = await google.colab.kernel.invokeFunction(\n",
              "            'suggestCharts', [key], {});\n",
              "      } catch (error) {\n",
              "        console.error('Error during call to suggestCharts:', error);\n",
              "      }\n",
              "      quickchartButtonEl.classList.remove('colab-df-spinner');\n",
              "      quickchartButtonEl.classList.add('colab-df-quickchart-complete');\n",
              "    }\n",
              "    (() => {\n",
              "      let quickchartButtonEl =\n",
              "        document.querySelector('#df-4282e7cd-1598-4b92-bbe9-caadc7274193 button');\n",
              "      quickchartButtonEl.style.display =\n",
              "        google.colab.kernel.accessAllowed ? 'block' : 'none';\n",
              "    })();\n",
              "  </script>\n",
              "</div>\n",
              "    </div>\n",
              "  </div>\n"
            ]
          },
          "metadata": {},
          "execution_count": 5
        }
      ],
      "source": [
        "df.head()"
      ]
    },
    {
      "cell_type": "code",
      "execution_count": 6,
      "id": "7ca80de2",
      "metadata": {
        "execution": {
          "iopub.execute_input": "2023-10-24T19:47:38.497758Z",
          "iopub.status.busy": "2023-10-24T19:47:38.497166Z",
          "iopub.status.idle": "2023-10-24T19:47:38.506686Z",
          "shell.execute_reply": "2023-10-24T19:47:38.505876Z"
        },
        "papermill": {
          "duration": 0.016559,
          "end_time": "2023-10-24T19:47:38.508568",
          "exception": false,
          "start_time": "2023-10-24T19:47:38.492009",
          "status": "completed"
        },
        "tags": [],
        "id": "7ca80de2"
      },
      "outputs": [],
      "source": [
        "df.drop(columns = [\"customer name\",\"customer e-mail\",\"country\",\"gender\"],axis = 1,inplace = True)"
      ]
    },
    {
      "cell_type": "code",
      "execution_count": 7,
      "id": "a0ff3e64",
      "metadata": {
        "execution": {
          "iopub.execute_input": "2023-10-24T19:47:38.518049Z",
          "iopub.status.busy": "2023-10-24T19:47:38.517801Z",
          "iopub.status.idle": "2023-10-24T19:47:38.522635Z",
          "shell.execute_reply": "2023-10-24T19:47:38.521790Z"
        },
        "papermill": {
          "duration": 0.011691,
          "end_time": "2023-10-24T19:47:38.524503",
          "exception": false,
          "start_time": "2023-10-24T19:47:38.512812",
          "status": "completed"
        },
        "tags": [],
        "id": "a0ff3e64"
      },
      "outputs": [],
      "source": [
        "X = df.drop(\"car purchase amount\",axis = 1)\n",
        "Y = df[\"car purchase amount\"]"
      ]
    },
    {
      "cell_type": "code",
      "execution_count": 8,
      "id": "f4cc54c6",
      "metadata": {
        "execution": {
          "iopub.execute_input": "2023-10-24T19:47:38.533992Z",
          "iopub.status.busy": "2023-10-24T19:47:38.533721Z",
          "iopub.status.idle": "2023-10-24T19:47:38.542948Z",
          "shell.execute_reply": "2023-10-24T19:47:38.542013Z"
        },
        "papermill": {
          "duration": 0.016136,
          "end_time": "2023-10-24T19:47:38.544916",
          "exception": false,
          "start_time": "2023-10-24T19:47:38.528780",
          "status": "completed"
        },
        "tags": [],
        "id": "f4cc54c6"
      },
      "outputs": [],
      "source": [
        "scaler = MinMaxScaler()\n",
        "X = scaler.fit_transform(X)\n",
        "Y = scaler.fit_transform(Y.values.reshape(-1,1))"
      ]
    },
    {
      "cell_type": "code",
      "execution_count": 9,
      "id": "91379215",
      "metadata": {
        "execution": {
          "iopub.execute_input": "2023-10-24T19:47:38.554666Z",
          "iopub.status.busy": "2023-10-24T19:47:38.554121Z",
          "iopub.status.idle": "2023-10-24T19:47:38.559512Z",
          "shell.execute_reply": "2023-10-24T19:47:38.558871Z"
        },
        "papermill": {
          "duration": 0.01219,
          "end_time": "2023-10-24T19:47:38.561330",
          "exception": false,
          "start_time": "2023-10-24T19:47:38.549140",
          "status": "completed"
        },
        "tags": [],
        "id": "91379215"
      },
      "outputs": [],
      "source": [
        "x_train, x_test, y_train, y_test = train_test_split(X, Y, test_size=0.2, random_state=42)"
      ]
    },
    {
      "cell_type": "code",
      "execution_count": 10,
      "id": "8ad8210c",
      "metadata": {
        "execution": {
          "iopub.execute_input": "2023-10-24T19:47:38.570830Z",
          "iopub.status.busy": "2023-10-24T19:47:38.570550Z",
          "iopub.status.idle": "2023-10-24T19:47:41.752455Z",
          "shell.execute_reply": "2023-10-24T19:47:41.751480Z"
        },
        "papermill": {
          "duration": 3.193126,
          "end_time": "2023-10-24T19:47:41.758610",
          "exception": false,
          "start_time": "2023-10-24T19:47:38.565484",
          "status": "completed"
        },
        "tags": [],
        "colab": {
          "base_uri": "https://localhost:8080/"
        },
        "id": "8ad8210c",
        "outputId": "7f27105b-9467-4856-e3bb-4cc8aa9ef5a5"
      },
      "outputs": [
        {
          "output_type": "stream",
          "name": "stdout",
          "text": [
            "Model: \"sequential\"\n",
            "_________________________________________________________________\n",
            " Layer (type)                Output Shape              Param #   \n",
            "=================================================================\n",
            " dense (Dense)               (None, 10)                50        \n",
            "                                                                 \n",
            " dense_1 (Dense)             (None, 10)                110       \n",
            "                                                                 \n",
            " dense_2 (Dense)             (None, 1)                 11        \n",
            "                                                                 \n",
            "=================================================================\n",
            "Total params: 171 (684.00 Byte)\n",
            "Trainable params: 171 (684.00 Byte)\n",
            "Non-trainable params: 0 (0.00 Byte)\n",
            "_________________________________________________________________\n"
          ]
        }
      ],
      "source": [
        "model = Sequential()\n",
        "\n",
        "model.add(Dense(10,activation = 'relu',input_dim=4))\n",
        "model.add(Dense(10,activation = 'relu'))\n",
        "model.add(Dense(1,activation = 'linear'))\n",
        "\n",
        "model.compile(optimizer = 'adam',loss = \"mean_squared_error\",metrics=[\"mean_absolute_error\"])\n",
        "model.summary()"
      ]
    },
    {
      "cell_type": "code",
      "execution_count": 11,
      "id": "d9ca1c8d",
      "metadata": {
        "execution": {
          "iopub.execute_input": "2023-10-24T19:47:41.770991Z",
          "iopub.status.busy": "2023-10-24T19:47:41.770400Z",
          "iopub.status.idle": "2023-10-24T19:47:48.882071Z",
          "shell.execute_reply": "2023-10-24T19:47:48.881082Z"
        },
        "papermill": {
          "duration": 7.120026,
          "end_time": "2023-10-24T19:47:48.884100",
          "exception": false,
          "start_time": "2023-10-24T19:47:41.764074",
          "status": "completed"
        },
        "tags": [],
        "colab": {
          "base_uri": "https://localhost:8080/"
        },
        "id": "d9ca1c8d",
        "outputId": "832afa77-0721-4b47-fd8d-1d98e5938c41"
      },
      "outputs": [
        {
          "output_type": "stream",
          "name": "stdout",
          "text": [
            "Epoch 1/50\n",
            "10/10 [==============================] - 2s 65ms/step - loss: 0.2452 - mean_absolute_error: 0.4714 - val_loss: 0.1700 - val_mean_absolute_error: 0.3950\n",
            "Epoch 2/50\n",
            "10/10 [==============================] - 0s 5ms/step - loss: 0.1465 - mean_absolute_error: 0.3558 - val_loss: 0.0927 - val_mean_absolute_error: 0.2857\n",
            "Epoch 3/50\n",
            "10/10 [==============================] - 0s 5ms/step - loss: 0.0821 - mean_absolute_error: 0.2588 - val_loss: 0.0495 - val_mean_absolute_error: 0.2024\n",
            "Epoch 4/50\n",
            "10/10 [==============================] - 0s 7ms/step - loss: 0.0459 - mean_absolute_error: 0.1867 - val_loss: 0.0261 - val_mean_absolute_error: 0.1410\n",
            "Epoch 5/50\n",
            "10/10 [==============================] - 0s 5ms/step - loss: 0.0263 - mean_absolute_error: 0.1346 - val_loss: 0.0138 - val_mean_absolute_error: 0.0967\n",
            "Epoch 6/50\n",
            "10/10 [==============================] - 0s 5ms/step - loss: 0.0158 - mean_absolute_error: 0.1006 - val_loss: 0.0082 - val_mean_absolute_error: 0.0720\n",
            "Epoch 7/50\n",
            "10/10 [==============================] - 0s 5ms/step - loss: 0.0109 - mean_absolute_error: 0.0810 - val_loss: 0.0065 - val_mean_absolute_error: 0.0612\n",
            "Epoch 8/50\n",
            "10/10 [==============================] - 0s 8ms/step - loss: 0.0092 - mean_absolute_error: 0.0753 - val_loss: 0.0061 - val_mean_absolute_error: 0.0591\n",
            "Epoch 9/50\n",
            "10/10 [==============================] - 0s 6ms/step - loss: 0.0086 - mean_absolute_error: 0.0731 - val_loss: 0.0060 - val_mean_absolute_error: 0.0588\n",
            "Epoch 10/50\n",
            "10/10 [==============================] - 0s 6ms/step - loss: 0.0081 - mean_absolute_error: 0.0710 - val_loss: 0.0058 - val_mean_absolute_error: 0.0581\n",
            "Epoch 11/50\n",
            "10/10 [==============================] - 0s 5ms/step - loss: 0.0076 - mean_absolute_error: 0.0686 - val_loss: 0.0055 - val_mean_absolute_error: 0.0567\n",
            "Epoch 12/50\n",
            "10/10 [==============================] - 0s 6ms/step - loss: 0.0072 - mean_absolute_error: 0.0664 - val_loss: 0.0052 - val_mean_absolute_error: 0.0551\n",
            "Epoch 13/50\n",
            "10/10 [==============================] - 0s 5ms/step - loss: 0.0067 - mean_absolute_error: 0.0644 - val_loss: 0.0050 - val_mean_absolute_error: 0.0538\n",
            "Epoch 14/50\n",
            "10/10 [==============================] - 0s 7ms/step - loss: 0.0064 - mean_absolute_error: 0.0626 - val_loss: 0.0046 - val_mean_absolute_error: 0.0515\n",
            "Epoch 15/50\n",
            "10/10 [==============================] - 0s 5ms/step - loss: 0.0060 - mean_absolute_error: 0.0608 - val_loss: 0.0044 - val_mean_absolute_error: 0.0506\n",
            "Epoch 16/50\n",
            "10/10 [==============================] - 0s 7ms/step - loss: 0.0057 - mean_absolute_error: 0.0593 - val_loss: 0.0041 - val_mean_absolute_error: 0.0489\n",
            "Epoch 17/50\n",
            "10/10 [==============================] - 0s 7ms/step - loss: 0.0054 - mean_absolute_error: 0.0580 - val_loss: 0.0039 - val_mean_absolute_error: 0.0475\n",
            "Epoch 18/50\n",
            "10/10 [==============================] - 0s 6ms/step - loss: 0.0052 - mean_absolute_error: 0.0567 - val_loss: 0.0036 - val_mean_absolute_error: 0.0457\n",
            "Epoch 19/50\n",
            "10/10 [==============================] - 0s 8ms/step - loss: 0.0049 - mean_absolute_error: 0.0552 - val_loss: 0.0035 - val_mean_absolute_error: 0.0457\n",
            "Epoch 20/50\n",
            "10/10 [==============================] - 0s 7ms/step - loss: 0.0047 - mean_absolute_error: 0.0544 - val_loss: 0.0034 - val_mean_absolute_error: 0.0447\n",
            "Epoch 21/50\n",
            "10/10 [==============================] - 0s 7ms/step - loss: 0.0044 - mean_absolute_error: 0.0526 - val_loss: 0.0031 - val_mean_absolute_error: 0.0420\n",
            "Epoch 22/50\n",
            "10/10 [==============================] - 0s 7ms/step - loss: 0.0043 - mean_absolute_error: 0.0513 - val_loss: 0.0029 - val_mean_absolute_error: 0.0416\n",
            "Epoch 23/50\n",
            "10/10 [==============================] - 0s 5ms/step - loss: 0.0040 - mean_absolute_error: 0.0502 - val_loss: 0.0028 - val_mean_absolute_error: 0.0414\n",
            "Epoch 24/50\n",
            "10/10 [==============================] - 0s 5ms/step - loss: 0.0038 - mean_absolute_error: 0.0488 - val_loss: 0.0026 - val_mean_absolute_error: 0.0394\n",
            "Epoch 25/50\n",
            "10/10 [==============================] - 0s 6ms/step - loss: 0.0036 - mean_absolute_error: 0.0475 - val_loss: 0.0025 - val_mean_absolute_error: 0.0384\n",
            "Epoch 26/50\n",
            "10/10 [==============================] - 0s 8ms/step - loss: 0.0034 - mean_absolute_error: 0.0463 - val_loss: 0.0023 - val_mean_absolute_error: 0.0375\n",
            "Epoch 27/50\n",
            "10/10 [==============================] - 0s 6ms/step - loss: 0.0033 - mean_absolute_error: 0.0450 - val_loss: 0.0022 - val_mean_absolute_error: 0.0363\n",
            "Epoch 28/50\n",
            "10/10 [==============================] - 0s 7ms/step - loss: 0.0030 - mean_absolute_error: 0.0436 - val_loss: 0.0021 - val_mean_absolute_error: 0.0353\n",
            "Epoch 29/50\n",
            "10/10 [==============================] - 0s 6ms/step - loss: 0.0029 - mean_absolute_error: 0.0421 - val_loss: 0.0019 - val_mean_absolute_error: 0.0338\n",
            "Epoch 30/50\n",
            "10/10 [==============================] - 0s 7ms/step - loss: 0.0027 - mean_absolute_error: 0.0408 - val_loss: 0.0018 - val_mean_absolute_error: 0.0333\n",
            "Epoch 31/50\n",
            "10/10 [==============================] - 0s 7ms/step - loss: 0.0025 - mean_absolute_error: 0.0395 - val_loss: 0.0017 - val_mean_absolute_error: 0.0314\n",
            "Epoch 32/50\n",
            "10/10 [==============================] - 0s 5ms/step - loss: 0.0023 - mean_absolute_error: 0.0380 - val_loss: 0.0016 - val_mean_absolute_error: 0.0318\n",
            "Epoch 33/50\n",
            "10/10 [==============================] - 0s 5ms/step - loss: 0.0022 - mean_absolute_error: 0.0368 - val_loss: 0.0014 - val_mean_absolute_error: 0.0292\n",
            "Epoch 34/50\n",
            "10/10 [==============================] - 0s 5ms/step - loss: 0.0020 - mean_absolute_error: 0.0356 - val_loss: 0.0014 - val_mean_absolute_error: 0.0289\n",
            "Epoch 35/50\n",
            "10/10 [==============================] - 0s 5ms/step - loss: 0.0019 - mean_absolute_error: 0.0340 - val_loss: 0.0013 - val_mean_absolute_error: 0.0275\n",
            "Epoch 36/50\n",
            "10/10 [==============================] - 0s 6ms/step - loss: 0.0017 - mean_absolute_error: 0.0326 - val_loss: 0.0011 - val_mean_absolute_error: 0.0258\n",
            "Epoch 37/50\n",
            "10/10 [==============================] - 0s 5ms/step - loss: 0.0016 - mean_absolute_error: 0.0315 - val_loss: 0.0011 - val_mean_absolute_error: 0.0254\n",
            "Epoch 38/50\n",
            "10/10 [==============================] - 0s 6ms/step - loss: 0.0014 - mean_absolute_error: 0.0298 - val_loss: 9.2425e-04 - val_mean_absolute_error: 0.0233\n",
            "Epoch 39/50\n",
            "10/10 [==============================] - 0s 7ms/step - loss: 0.0013 - mean_absolute_error: 0.0285 - val_loss: 8.6802e-04 - val_mean_absolute_error: 0.0227\n",
            "Epoch 40/50\n",
            "10/10 [==============================] - 0s 5ms/step - loss: 0.0012 - mean_absolute_error: 0.0274 - val_loss: 7.8417e-04 - val_mean_absolute_error: 0.0215\n",
            "Epoch 41/50\n",
            "10/10 [==============================] - 0s 7ms/step - loss: 0.0011 - mean_absolute_error: 0.0258 - val_loss: 6.8871e-04 - val_mean_absolute_error: 0.0200\n",
            "Epoch 42/50\n",
            "10/10 [==============================] - 0s 7ms/step - loss: 9.9960e-04 - mean_absolute_error: 0.0245 - val_loss: 6.4740e-04 - val_mean_absolute_error: 0.0193\n",
            "Epoch 43/50\n",
            "10/10 [==============================] - 0s 5ms/step - loss: 9.0740e-04 - mean_absolute_error: 0.0233 - val_loss: 5.6333e-04 - val_mean_absolute_error: 0.0180\n",
            "Epoch 44/50\n",
            "10/10 [==============================] - 0s 5ms/step - loss: 8.2139e-04 - mean_absolute_error: 0.0221 - val_loss: 5.1112e-04 - val_mean_absolute_error: 0.0172\n",
            "Epoch 45/50\n",
            "10/10 [==============================] - 0s 7ms/step - loss: 7.4969e-04 - mean_absolute_error: 0.0211 - val_loss: 4.6298e-04 - val_mean_absolute_error: 0.0163\n",
            "Epoch 46/50\n",
            "10/10 [==============================] - 0s 8ms/step - loss: 6.7273e-04 - mean_absolute_error: 0.0199 - val_loss: 4.0477e-04 - val_mean_absolute_error: 0.0152\n",
            "Epoch 47/50\n",
            "10/10 [==============================] - 0s 5ms/step - loss: 6.0859e-04 - mean_absolute_error: 0.0189 - val_loss: 3.5910e-04 - val_mean_absolute_error: 0.0143\n",
            "Epoch 48/50\n",
            "10/10 [==============================] - 0s 8ms/step - loss: 5.4838e-04 - mean_absolute_error: 0.0179 - val_loss: 3.2263e-04 - val_mean_absolute_error: 0.0135\n",
            "Epoch 49/50\n",
            "10/10 [==============================] - 0s 7ms/step - loss: 4.9207e-04 - mean_absolute_error: 0.0169 - val_loss: 2.8580e-04 - val_mean_absolute_error: 0.0127\n",
            "Epoch 50/50\n",
            "10/10 [==============================] - 0s 6ms/step - loss: 4.4657e-04 - mean_absolute_error: 0.0160 - val_loss: 2.5075e-04 - val_mean_absolute_error: 0.0118\n"
          ]
        }
      ],
      "source": [
        "history = model.fit(x_train,y_train,epochs = 50 , validation_split = 0.2)"
      ]
    },
    {
      "cell_type": "code",
      "execution_count": 12,
      "id": "1c0043a4",
      "metadata": {
        "execution": {
          "iopub.execute_input": "2023-10-24T19:47:48.918862Z",
          "iopub.status.busy": "2023-10-24T19:47:48.918546Z",
          "iopub.status.idle": "2023-10-24T19:47:49.486906Z",
          "shell.execute_reply": "2023-10-24T19:47:49.485953Z"
        },
        "papermill": {
          "duration": 0.589006,
          "end_time": "2023-10-24T19:47:49.489883",
          "exception": false,
          "start_time": "2023-10-24T19:47:48.900877",
          "status": "completed"
        },
        "tags": [],
        "colab": {
          "base_uri": "https://localhost:8080/",
          "height": 503
        },
        "id": "1c0043a4",
        "outputId": "23115837-a547-412a-b8a1-6b2b9a7c106d"
      },
      "outputs": [
        {
          "output_type": "display_data",
          "data": {
            "text/plain": [
              "<Figure size 2000x800 with 2 Axes>"
            ],
            "image/png": "[encoded data removed]"
          },
          "metadata": {}
        }
      ],
      "source": [
        "# Define needed variables\n",
        "tr_acc = history.history['mean_absolute_error']\n",
        "tr_loss = history.history['loss']\n",
        "val_acc = history.history['val_mean_absolute_error']\n",
        "val_loss = history.history['val_loss']\n",
        "index_loss = np.argmin(val_loss)\n",
        "val_lowest = val_loss[index_loss]\n",
        "index_acc = np.argmax(val_acc)\n",
        "acc_highest = val_acc[index_acc]\n",
        "Epochs = [i+1 for i in range(len(tr_acc))]\n",
        "loss_label = f'best epoch= {str(index_loss + 1)}'\n",
        "acc_label = f'best epoch= {str(index_acc + 1)}'\n",
        "\n",
        "# Plot training history\n",
        "plt.figure(figsize= (20, 8))\n",
        "plt.style.use('fivethirtyeight')\n",
        "\n",
        "plt.subplot(1, 2, 1)\n",
        "plt.plot(Epochs, tr_loss, 'r', label= 'Training loss')\n",
        "plt.plot(Epochs, val_loss, 'g', label= 'Validation loss')\n",
        "plt.scatter(index_loss + 1, val_lowest, s= 150, c= 'blue', label= loss_label)\n",
        "plt.title('Training and Validation Loss')\n",
        "plt.xlabel('Epochs')\n",
        "plt.ylabel('Loss')\n",
        "plt.legend()\n",
        "\n",
        "plt.subplot(1, 2, 2)\n",
        "plt.plot(Epochs, tr_acc, 'r', label= 'Training Accuracy')\n",
        "plt.plot(Epochs, val_acc, 'g', label= 'Validation Accuracy')\n",
        "plt.scatter(index_acc + 1 , acc_highest, s= 150, c= 'blue', label= acc_label)\n",
        "plt.title('Training and Validation Accuracy')\n",
        "plt.xlabel('Epochs')\n",
        "plt.ylabel('Accuracy')\n",
        "plt.legend()\n",
        "\n",
        "plt.tight_layout\n",
        "plt.show()"
      ]
    },
    {
      "cell_type": "code",
      "execution_count": 13,
      "id": "c7d5656e",
      "metadata": {
        "execution": {
          "iopub.execute_input": "2023-10-24T19:47:49.527334Z",
          "iopub.status.busy": "2023-10-24T19:47:49.526577Z",
          "iopub.status.idle": "2023-10-24T19:47:49.675640Z",
          "shell.execute_reply": "2023-10-24T19:47:49.674680Z"
        },
        "papermill": {
          "duration": 0.170019,
          "end_time": "2023-10-24T19:47:49.677773",
          "exception": false,
          "start_time": "2023-10-24T19:47:49.507754",
          "status": "completed"
        },
        "tags": [],
        "colab": {
          "base_uri": "https://localhost:8080/"
        },
        "id": "c7d5656e",
        "outputId": "27c4d55b-50df-4233-a653-51cb9bd1699b"
      },
      "outputs": [
        {
          "output_type": "stream",
          "name": "stdout",
          "text": [
            "4/4 [==============================] - 0s 3ms/step\n"
          ]
        }
      ],
      "source": [
        "y_pred = model.predict(x_test)"
      ]
    },
    {
      "cell_type": "code",
      "execution_count": 14,
      "id": "734af7c3",
      "metadata": {
        "execution": {
          "iopub.execute_input": "2023-10-24T19:47:49.715109Z",
          "iopub.status.busy": "2023-10-24T19:47:49.714834Z",
          "iopub.status.idle": "2023-10-24T19:47:49.720016Z",
          "shell.execute_reply": "2023-10-24T19:47:49.719164Z"
        },
        "papermill": {
          "duration": 0.026481,
          "end_time": "2023-10-24T19:47:49.722259",
          "exception": false,
          "start_time": "2023-10-24T19:47:49.695778",
          "status": "completed"
        },
        "tags": [],
        "colab": {
          "base_uri": "https://localhost:8080/"
        },
        "id": "734af7c3",
        "outputId": "4c5bdf72-55f2-4976-b091-628f01a2bc26"
      },
      "outputs": [
        {
          "output_type": "stream",
          "name": "stdout",
          "text": [
            "R2 Score= 0.9871382955466587\n"
          ]
        }
      ],
      "source": [
        "from sklearn.metrics import r2_score\n",
        "\n",
        "R2 = r2_score(y_test, y_pred)\n",
        "print(\"R2 Score=\",R2 )"
      ]
    },
    {
      "cell_type": "code",
      "execution_count": 14,
      "id": "1df58ee7",
      "metadata": {
        "papermill": {
          "duration": 0.017625,
          "end_time": "2023-10-24T19:47:49.758225",
          "exception": false,
          "start_time": "2023-10-24T19:47:49.740600",
          "status": "completed"
        },
        "tags": [],
        "id": "1df58ee7"
      },
      "outputs": [],
      "source": []
    }
  ],
  "metadata": {
    "kernelspec": {
      "display_name": "Python 3",
      "language": "python",
      "name": "python3"
    },
    "language_info": {
      "codemirror_mode": {
        "name": "ipython",
        "version": 3
      },
      "file_extension": ".py",
      "mimetype": "text/x-python",
      "name": "python",
      "nbconvert_exporter": "python",
      "pygments_lexer": "ipython3",
      "version": "3.10.12"
    },
    "papermill": {
      "default_parameters": {},
      "duration": 26.569509,
      "end_time": "2023-10-24T19:47:52.285712",
      "environment_variables": {},
      "exception": null,
      "input_path": "__notebook__.ipynb",
      "output_path": "__notebook__.ipynb",
      "parameters": {},
      "start_time": "2023-10-24T19:47:25.716203",
      "version": "2.4.0"
    },
    "colab": {
      "provenance": [],
      "include_colab_link": true
    }
  },
  "nbformat": 4,
  "nbformat_minor": 5
}